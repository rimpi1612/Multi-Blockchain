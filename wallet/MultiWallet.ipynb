{
 "cells": [
  {
   "cell_type": "code",
   "execution_count": 1,
   "id": "da272340",
   "metadata": {},
   "outputs": [
    {
     "data": {
      "text/plain": [
       "True"
      ]
     },
     "execution_count": 1,
     "metadata": {},
     "output_type": "execute_result"
    }
   ],
   "source": [
    "# import libraries\n",
    "import subprocess\n",
    "import json\n",
    "import os\n",
    "from constants import *\n",
    "from dotenv import load_dotenv\n",
    "from web3 import Web3\n",
    "from eth_account import Account\n",
    "from bit import PrivateKeyTestnet\n",
    "from bit.network import NetworkAPI\n",
    "from web3.middleware import geth_poa_middleware\n",
    "from web3.gas_strategies.time_based import medium_gas_price_strategy\n",
    "\n",
    "load_dotenv()"
   ]
  },
  {
   "cell_type": "code",
   "execution_count": 2,
   "id": "16450d86",
   "metadata": {},
   "outputs": [
    {
     "name": "stdout",
     "output_type": "stream",
     "text": [
      "witness injury spoon lumber refuse strike shrimp calm prefer horse stumble infant zebra merry grow\n"
     ]
    }
   ],
   "source": [
    "mnemonic = os.getenv('MNEMONIC')\n",
    "print(mnemonic)"
   ]
  },
  {
   "cell_type": "code",
   "execution_count": 3,
   "id": "61a800f2",
   "metadata": {},
   "outputs": [],
   "source": [
    "w3 = Web3(Web3.HTTPProvider(\"http://127.0.0.1.8545\"))\n",
    "w3.middleware_onion.inject(geth_poa_middleware, layer=0)\n",
    "w3.eth.setGasPriceStrategy(medium_gas_price_strategy)"
   ]
  },
  {
   "cell_type": "code",
   "execution_count": 4,
   "id": "73b52f36",
   "metadata": {},
   "outputs": [],
   "source": [
    "# Create a function called `derive_wallets`\n",
    "def derive_wallets(mnemonic, coin, numderive):\n",
    "    command = './derive -g --mnemonic=\"{mnemonic}\" --coin=\"btc-test\" --cols=path,address,privkey,pubkey --format=json'\n",
    "    if coin == \"eth\":\n",
    "        command = './derive -g --mnemonic=\"{mnemonic}\" --coin=\"eth\" --cols=path,address,privkey,pubkey --format=json'\n",
    "    if coin == \"btc\":\n",
    "        command = './derive -g --mnemonic=\"{mnemonic}\" --coin=\"btc\" --cols=path,address,privkey,pubkey --format=json'\n",
    "    p = subprocess.Popen(command, stdout=subprocess.PIPE, shell=True)\n",
    "    (output, err) = p.communicate()\n",
    "    p_status = p.wait()\n",
    "    keys = json.loads(output)\n",
    "    return keys"
   ]
  },
  {
   "cell_type": "code",
   "execution_count": null,
   "id": "a3fbfa1e",
   "metadata": {},
   "outputs": [],
   "source": []
  },
  {
   "cell_type": "code",
   "execution_count": 5,
   "id": "440ed60a",
   "metadata": {},
   "outputs": [],
   "source": [
    "\n",
    "# command = './derive -g --mnemonic=\"{mnemonic}\"  --coin=\"btc-test\" --cols=path,address,privkey,pubkey --format=json'\n",
    "# p = subprocess.Popen(command, stdout=subprocess.PIPE, shell=True)\n",
    "# (output, err) = p.communicate()\n",
    "# p_status = p.wait()\n",
    "# keys = json.loads(output)\n",
    "# print(keys)"
   ]
  },
  {
   "cell_type": "code",
   "execution_count": 6,
   "id": "673b3ccf",
   "metadata": {},
   "outputs": [],
   "source": [
    "# Test the function derive_wallets\n",
    "#derive_wallets(mnemonic, 'btc', 3)\n",
    "#derive_wallets(mnemonic, 'eth',3)"
   ]
  },
  {
   "cell_type": "code",
   "execution_count": 7,
   "id": "dd3ea603",
   "metadata": {},
   "outputs": [],
   "source": [
    "#Setting dictionary of coins to be used in the wallet\n",
    "\n",
    "coins = {\"eth\", \"btc-test\", \"btc\"}\n",
    "numderive = 3"
   ]
  },
  {
   "cell_type": "code",
   "execution_count": 8,
   "id": "229e856d",
   "metadata": {},
   "outputs": [],
   "source": [
    "keys = {}\n",
    "for coin in coins:\n",
    "    keys[coin]= derive_wallets(os.getenv('MNEMONIC'), coin, numderive)"
   ]
  },
  {
   "cell_type": "code",
   "execution_count": 9,
   "id": "5d988c2d",
   "metadata": {},
   "outputs": [
    {
     "name": "stdout",
     "output_type": "stream",
     "text": [
      "\"0x9d560f1207789c19a9fbb1c4cf6c8f5828d5b2219034cc7362a3705ab20f2305\"\n",
      "\"cV3EfoUo5TJfbS356NhsUB9yTwCcb5YddgCva45uUPHeR1jUuZWF\"\n"
     ]
    }
   ],
   "source": [
    "eth_PrivateKey = keys[\"eth\"][0]['privkey']\n",
    "btc_PrivateKey = keys['btc-test'][0]['privkey']\n",
    "\n",
    "print(json.dumps(eth_PrivateKey, indent=4, sort_keys=True))\n",
    "print(json.dumps(btc_PrivateKey, indent=4, sort_keys=True))"
   ]
  },
  {
   "cell_type": "code",
   "execution_count": 10,
   "id": "db448ab1",
   "metadata": {},
   "outputs": [
    {
     "name": "stdout",
     "output_type": "stream",
     "text": [
      "{\n",
      "    \"btc\": [\n",
      "        {\n",
      "            \"address\": \"15Ji2eBZxbjw7kpeU7A2KXRs2k6wHbaESS\",\n",
      "            \"path\": \"m/44'/0'/0'/0/0\",\n",
      "            \"privkey\": \"KzfiLVcitrrvW7jUcwxKbEHSjsXDKq47X5w3r7uh8DJTThmjZD3R\",\n",
      "            \"pubkey\": \"02fecd1c9636ba4663df6d72b2c3959bee27530807af098173938c608e3c34cd18\"\n",
      "        },\n",
      "        {\n",
      "            \"address\": \"1BVCTgqVXuVUugbJVYi2SVAn1WivewzPT1\",\n",
      "            \"path\": \"m/44'/0'/0'/0/1\",\n",
      "            \"privkey\": \"KxJrcUcg9MyeGmJF8M3QzQ1d5BwzJxj5ErqwbJ4EkapQBzx9RZtx\",\n",
      "            \"pubkey\": \"029ff90cfd29575b78928a39a22ba490236c26044d80584748a5e88ebea81a7c9f\"\n",
      "        },\n",
      "        {\n",
      "            \"address\": \"1HAWgDGTxgd44gb97Hw4KGxuCmnzTPRU4A\",\n",
      "            \"path\": \"m/44'/0'/0'/0/2\",\n",
      "            \"privkey\": \"L4VhtgSRBAQ3zWTd72H5F8MqW1R1E8bTJq3aAxVqzQBrAS5nWnx4\",\n",
      "            \"pubkey\": \"02fac020fed67ceaaa4f8e138a48a2b77334ec7db239f3ecd6584cff1d529938a5\"\n",
      "        },\n",
      "        {\n",
      "            \"address\": \"13HZsdcLSeF8bsLfp8ZU5MeeKyHd7qrLE1\",\n",
      "            \"path\": \"m/44'/0'/0'/0/3\",\n",
      "            \"privkey\": \"L3edFknWVyxJZbpZ3hMmAQ2jFNKJ8pS4AKTDVGCDKpWBNXw9LumQ\",\n",
      "            \"pubkey\": \"022f51845cf80a5c71a2c695f9457c838a5a442253ebca5ce168ab0acfeffa9224\"\n",
      "        },\n",
      "        {\n",
      "            \"address\": \"1DWH882tEuHzj1zkXypQFDfmWzYQPLDQYb\",\n",
      "            \"path\": \"m/44'/0'/0'/0/4\",\n",
      "            \"privkey\": \"KyFvkXuuJBiGUXsUx4cEWwH3ijg8LKiRgFVqqZoEGNz5tzfPLSq1\",\n",
      "            \"pubkey\": \"0312be9e47aedc60dd4707f3d9f9cea400af956f7d3adfd9acdac35115aece0d63\"\n",
      "        },\n",
      "        {\n",
      "            \"address\": \"1LV6Em5HhLSXns2MbBcMjnDJUqG4WCu8gL\",\n",
      "            \"path\": \"m/44'/0'/0'/0/5\",\n",
      "            \"privkey\": \"L4Sr3U8X3F3yR7URJQPyWuBj42ZWePTbNQgcogDM7m3ypsnc16BW\",\n",
      "            \"pubkey\": \"033a448588ce8333bb0c9072c3e3e1c5a51d71368f8d4908e18e51f5bfaf71535f\"\n",
      "        },\n",
      "        {\n",
      "            \"address\": \"14tGEQ1zqmDHrj7MoLC4NEYeKbjTR34hhw\",\n",
      "            \"path\": \"m/44'/0'/0'/0/6\",\n",
      "            \"privkey\": \"L2LrApKYzKgCvKPHU2KvzPjtCsnGuQMEr5Pwr5ffSRXMJ6auRdo8\",\n",
      "            \"pubkey\": \"03d4a29c70adebd60ff4803c990bc0609d1dad329c16ec2a1c9a0de28725b307d0\"\n",
      "        },\n",
      "        {\n",
      "            \"address\": \"1GVGcpHkt23k3bwsTi78kr3UE1goQdvXYU\",\n",
      "            \"path\": \"m/44'/0'/0'/0/7\",\n",
      "            \"privkey\": \"KwhboT9vvrf1m1jd73sbEjymwsC7YKtsNMaHRGZ6BbE1BLt22rb7\",\n",
      "            \"pubkey\": \"0289f6ba6f90868498182855a31e65f70f5d65c8cf58b5f70c46886c5593ca5589\"\n",
      "        },\n",
      "        {\n",
      "            \"address\": \"19F1TXpNnqybBwavZyhQaqXsqWJ9TC1Fvt\",\n",
      "            \"path\": \"m/44'/0'/0'/0/8\",\n",
      "            \"privkey\": \"KwTcbbMDiZkLBSCuueizRmXxcaYAZZ5iex5eXj8KDTJEXDEp6WoN\",\n",
      "            \"pubkey\": \"03098310069f8cbf3ea20592f8b9374e6d7b997830f47e21b230ede535a6a23b05\"\n",
      "        },\n",
      "        {\n",
      "            \"address\": \"14fap7pfdvAMTSYrkL64UJMx2TM4JU3DNJ\",\n",
      "            \"path\": \"m/44'/0'/0'/0/9\",\n",
      "            \"privkey\": \"KxUAtMkMJfqrgRwQbjgFzGibwuDqCc3rEftie14g794oxL4QfyiQ\",\n",
      "            \"pubkey\": \"037445ee920650d25f02a5b01d21380248c11594b59f2dbbdd07c215306bfa545b\"\n",
      "        }\n",
      "    ],\n",
      "    \"btc-test\": [\n",
      "        {\n",
      "            \"address\": \"mkR3RZ8U2RbaPEakrtwQnoK8jSmhFmEYku\",\n",
      "            \"path\": \"m/44'/1'/0'/0/0\",\n",
      "            \"privkey\": \"cV3EfoUo5TJfbS356NhsUB9yTwCcb5YddgCva45uUPHeR1jUuZWF\",\n",
      "            \"pubkey\": \"03b7beb738516433c0bcdca14ccfff5fe0f5b2553f26c38a038a061898225d93e5\"\n",
      "        },\n",
      "        {\n",
      "            \"address\": \"mqvz6G9KMPfDH7Ns5egb9gdAr2anxMJxrF\",\n",
      "            \"path\": \"m/44'/1'/0'/0/1\",\n",
      "            \"privkey\": \"cSHtav3eA6CQrMJEK6Z54MdVroQDysvggcES4BLV4RW1HtCgTdCh\",\n",
      "            \"pubkey\": \"0321a5408464e39b0fc0f04ebe6c9bfae836512684cb440d892211641deaa6308f\"\n",
      "        },\n",
      "        {\n",
      "            \"address\": \"mihaa7rqfKpyxPApY2oNqMN5yNp6isUt3f\",\n",
      "            \"path\": \"m/44'/1'/0'/0/2\",\n",
      "            \"privkey\": \"cQiYawn2MLEZsxvsTzb3J8jGZ1ZFnvMrxVPQoAqKU99PudvfXNPD\",\n",
      "            \"pubkey\": \"029f71291e38f7da532f1b539dc7a122e5862bb8ed1b157597b6c81bed9ca111c7\"\n",
      "        },\n",
      "        {\n",
      "            \"address\": \"mjJcgCFUiPnyBENAz5YpcuHy7hh1doQLRo\",\n",
      "            \"path\": \"m/44'/1'/0'/0/3\",\n",
      "            \"privkey\": \"cUsgpCa31au69zHyFW86UhgEfAdLyzoXmW91hdhV6JAowmWSNcGN\",\n",
      "            \"pubkey\": \"02480779fc9222f4731f25cc304088f09ed599c834b7c4f62e5d485f5537b10cd6\"\n",
      "        },\n",
      "        {\n",
      "            \"address\": \"mmLsyQvfwip4PhgH6EcrxTNcdL35Sy5QUB\",\n",
      "            \"path\": \"m/44'/1'/0'/0/4\",\n",
      "            \"privkey\": \"cUFAnt18ZJDAjWhSbvQx2G4LfA7pitvBiehU8wAT6FQVuoEnrfSH\",\n",
      "            \"pubkey\": \"03310854250f1253ccdd5f1e34d94bfef2dce6112a25e52885d558b0631b0929a7\"\n",
      "        },\n",
      "        {\n",
      "            \"address\": \"miUPdwrRFktmrVE7NkKwfXZK88m6vyQrDW\",\n",
      "            \"path\": \"m/44'/1'/0'/0/5\",\n",
      "            \"privkey\": \"cTYt7MMCiKk1ko2AW8SW1r9ETfGR5A2shxixtAizkMob5fyAaXLi\",\n",
      "            \"pubkey\": \"02629fe622f8563af4c3cc0ea280955da4193cb6ea878085f394e1ea23a8295ce8\"\n",
      "        },\n",
      "        {\n",
      "            \"address\": \"muyUNQdjfqJhSgHBLQrY8j4wxMVYAvLg5g\",\n",
      "            \"path\": \"m/44'/1'/0'/0/6\",\n",
      "            \"privkey\": \"cU45PCGk1umYwzgUmggoWR8zW2u1YqA8ZVgwL2hBEPBig2tYoNFc\",\n",
      "            \"pubkey\": \"023483285a9a87d011ccafbc78d11e32ef92fbe64dcead9191d048baf7232d38ab\"\n",
      "        },\n",
      "        {\n",
      "            \"address\": \"midBc8V1rpmkHBg9gRugcPy13iyG17BCEn\",\n",
      "            \"path\": \"m/44'/1'/0'/0/7\",\n",
      "            \"privkey\": \"cRNANxUwBUNoB6cxoXhBVWhhEZKjFACfqhsSZ7JW4yAycjPn9Phj\",\n",
      "            \"pubkey\": \"03249695c13794cadbe71b33f536cb26f34a21c3bda4f5d0c1ca5607b25136aa57\"\n",
      "        },\n",
      "        {\n",
      "            \"address\": \"myz1CXJqEdnhYBLDagEJHg6i7hn2cJf863\",\n",
      "            \"path\": \"m/44'/1'/0'/0/8\",\n",
      "            \"privkey\": \"cVD1Ba4wKsJXwPe9BU1XAXCMx7V7QiovfoZVZ1sKxHQfG5RELYRY\",\n",
      "            \"pubkey\": \"0274cf11a1becb668419846fd365e63bf09687e545ace28d698c81832dc40315e0\"\n",
      "        },\n",
      "        {\n",
      "            \"address\": \"mw8rJyzDfTGcuzK4hFeFanhxgPEfaFxj8H\",\n",
      "            \"path\": \"m/44'/1'/0'/0/9\",\n",
      "            \"privkey\": \"cQcbCTcnzCa1d5qAYPVavaMck4LFb8Qc4erfFSUopVsGnAZxx272\",\n",
      "            \"pubkey\": \"032ebefb4d5894cbfa2c08db9d4a54bee116e3e3c03627a81056336fd69051fa25\"\n",
      "        }\n",
      "    ],\n",
      "    \"eth\": [\n",
      "        {\n",
      "            \"address\": \"0x503B3648E16a2103Edd7f9A768601c865714B492\",\n",
      "            \"path\": \"m/44'/60'/0'/0/0\",\n",
      "            \"privkey\": \"0x9d560f1207789c19a9fbb1c4cf6c8f5828d5b2219034cc7362a3705ab20f2305\",\n",
      "            \"pubkey\": \"03d5e168399365bc48148d20da4ec05b657ad3915b71ca4aa89f5320debf82c13a\"\n",
      "        },\n",
      "        {\n",
      "            \"address\": \"0xbFDf092Ea03FC2ff3f9D0a8aFf0F567638209C0F\",\n",
      "            \"path\": \"m/44'/60'/0'/0/1\",\n",
      "            \"privkey\": \"0xd9af5591ee64a88e6e48636e970a376f2b596d815ce4009a5ac85a8258e4a996\",\n",
      "            \"pubkey\": \"0274a5828ed27ab2c3b1547adac3add0355023a0f302ad3a80443d20f47151cb63\"\n",
      "        },\n",
      "        {\n",
      "            \"address\": \"0xFD54cD061A3002c075F81D4676C09Cc05b059A10\",\n",
      "            \"path\": \"m/44'/60'/0'/0/2\",\n",
      "            \"privkey\": \"0x30592d92ced0a59059d565a03efec7dd3f4ccf218fc6227ae06d2d5979228cc9\",\n",
      "            \"pubkey\": \"02c31670a8de96f805e25cc6a448c0024569bff55822222063ceed4abbc7edc2c1\"\n",
      "        },\n",
      "        {\n",
      "            \"address\": \"0x471e52916315C3f53E1aE2F1DD833E369B76Dc18\",\n",
      "            \"path\": \"m/44'/60'/0'/0/3\",\n",
      "            \"privkey\": \"0x7ea74f01c4fed25966f7d5b7a1b95c1f7387b3da58ff6a038c44a3d0b8688118\",\n",
      "            \"pubkey\": \"0306df5d9483c02514b32b9c8f17ec31ebf432e71da8f23292bbeb9fba05596fb0\"\n",
      "        },\n",
      "        {\n",
      "            \"address\": \"0x065F1e1944546744C4d9366dF334f6abCF9AbD0f\",\n",
      "            \"path\": \"m/44'/60'/0'/0/4\",\n",
      "            \"privkey\": \"0xad39f93614af33f07e49b10a91f2baa45a58c28222d38f33ab2318ca7561361e\",\n",
      "            \"pubkey\": \"02810a0f5a88f6d502241ced04c9a9e5946f3af45c0a4f8cd9a4e5d9c0abb4cb14\"\n",
      "        },\n",
      "        {\n",
      "            \"address\": \"0x6d71f01815d6dB3Fdc5Be43b3c17B10D8727C358\",\n",
      "            \"path\": \"m/44'/60'/0'/0/5\",\n",
      "            \"privkey\": \"0x2bf5966bf9dd7a7709f575e7a13c1f682d5a15872132e1a929e45b087c426dce\",\n",
      "            \"pubkey\": \"02e84e8e43a414632f3a99387b8bd2f52b5af1da02153e53bba17742d0178b0534\"\n",
      "        },\n",
      "        {\n",
      "            \"address\": \"0x588b0AFd40F2e09473A7d3883E1503B5Cf45b919\",\n",
      "            \"path\": \"m/44'/60'/0'/0/6\",\n",
      "            \"privkey\": \"0xea1250bf69226f04f06cb152a413c62c9d5ea233c6e9c4358b2853963bb1cd73\",\n",
      "            \"pubkey\": \"032f9140b7f6644da3a383222870ad834e5eb511e368be4d4a2aa9c649e44e7b6a\"\n",
      "        },\n",
      "        {\n",
      "            \"address\": \"0x565fEf0a23a3ceF6687a892947C3a439557867aA\",\n",
      "            \"path\": \"m/44'/60'/0'/0/7\",\n",
      "            \"privkey\": \"0x5d2ebbf6f3857014504d09bc2bd2f2fc20e1c11c2cc0a0b1034ef71c5eac8089\",\n",
      "            \"pubkey\": \"0356e2da2e858a1b8cce9736b0367f5e6b893d28caf124ce9ead6b950ecb7c0386\"\n",
      "        },\n",
      "        {\n",
      "            \"address\": \"0x53dbe5c1787B1075ceE681491969879d68B75c8e\",\n",
      "            \"path\": \"m/44'/60'/0'/0/8\",\n",
      "            \"privkey\": \"0x6942bcb19b417cd35289ad96b2dc16f04718d5da9d146888ad918a0f182a0502\",\n",
      "            \"pubkey\": \"03c8bf015342b4e87e6f7d802bd6b99bd7b2aea0af676d9082fba7c33e58566d81\"\n",
      "        },\n",
      "        {\n",
      "            \"address\": \"0x41e71F5E7883478176b0c1b9eE7324e64321F086\",\n",
      "            \"path\": \"m/44'/60'/0'/0/9\",\n",
      "            \"privkey\": \"0x7edc358f28200cb9a647428702b7fd2064970e71515d27d26ea600c5a3d787ff\",\n",
      "            \"pubkey\": \"03564b4bc2202e2f48bfd6a128c3655869228ad042e2ae5ccc60a3cbbde68d00a3\"\n",
      "        }\n",
      "    ]\n",
      "}\n"
     ]
    }
   ],
   "source": [
    "print(json.dumps(keys, indent=4, sort_keys=True))"
   ]
  },
  {
   "cell_type": "code",
   "execution_count": 21,
   "id": "2b8ea092",
   "metadata": {},
   "outputs": [],
   "source": [
    "def priv_key_to_account(coin,priv_key):\n",
    "    print(coin)\n",
    "    print(priv_key)\n",
    "    if coin == ETH:\n",
    "        return Account.privateKeyToAccount(priv_key)\n",
    "    elif coin == BTCTEST:\n",
    "        return PrivateKeyTestnet(priv_key)"
   ]
  },
  {
   "cell_type": "code",
   "execution_count": 22,
   "id": "9174cbb8",
   "metadata": {},
   "outputs": [
    {
     "name": "stdout",
     "output_type": "stream",
     "text": [
      "btc-test\n",
      "cV3EfoUo5TJfbS356NhsUB9yTwCcb5YddgCva45uUPHeR1jUuZWF\n"
     ]
    }
   ],
   "source": [
    "btc_acc = priv_key_to_account(BTCTEST,btc_PrivateKey)"
   ]
  },
  {
   "cell_type": "code",
   "execution_count": 23,
   "id": "7bdb1d83",
   "metadata": {},
   "outputs": [
    {
     "name": "stdout",
     "output_type": "stream",
     "text": [
      "eth\n",
      "0x9d560f1207789c19a9fbb1c4cf6c8f5828d5b2219034cc7362a3705ab20f2305\n"
     ]
    }
   ],
   "source": [
    "eth_acc = priv_key_to_account(ETH,eth_PrivateKey)"
   ]
  },
  {
   "cell_type": "code",
   "execution_count": 24,
   "id": "28672e57",
   "metadata": {},
   "outputs": [],
   "source": [
    "def create_tx(coin,account, recipient, amount):\n",
    "    if coin == ETH: \n",
    "        gasEstimate = w3.eth.estimateGas(\n",
    "            {\"from\":eth_acc.address, \"to\":recipient, \"value\": amount}\n",
    "        )\n",
    "        return { \n",
    "            \"from\": eth_acc.address,\n",
    "            \"to\": recipient,\n",
    "            \"value\": amount,\n",
    "            \"gasPrice\": w3.eth.gasPrice,\n",
    "            \"gas\": gasEstimate,\n",
    "            \"nonce\": w3.eth.getTransactionCount(eth_acc.address)\n",
    "        }\n",
    "    elif coin == BTCTEST:\n",
    "        return PrivateKeyTestnet.prepare_transaction(account.address, [(recipient, amount, BTC)])"
   ]
  },
  {
   "cell_type": "code",
   "execution_count": 25,
   "id": "bc71f256",
   "metadata": {},
   "outputs": [],
   "source": [
    "# create a function to send txn\n",
    "def send_tx(coin,account,recipient, amount):\n",
    "    txn = create_tx(coin, account, recipient, amount)\n",
    "    if coin == ETH:\n",
    "        signed_txn = eth_acc.sign_transaction(txn)\n",
    "        result = w3.eth.sendRawTransaction(signed_txn.rawTransaction)\n",
    "        print(result.hex())\n",
    "        return result.hex()\n",
    "    elif coin == BTCTEST:\n",
    "        tx_btctest = create_tx(coin, account, recipient, amount)\n",
    "        signed_txn = account.sign_transaction(txn)\n",
    "        print(signed_txn)\n",
    "        return NetworkAPI.broadcast_tx_testnet(signed_txn)"
   ]
  },
  {
   "cell_type": "code",
   "execution_count": 29,
   "id": "57699548",
   "metadata": {},
   "outputs": [],
   "source": [
    "# create BTC transaction\n",
    "create_tx(BTCTEST,btc_acc,\"mkR3RZ8U2RbaPEakrtwQnoK8jSmhFmEYku\", 0.1)"
   ]
  },
  {
   "cell_type": "code",
   "execution_count": 30,
   "id": "237a5d48",
   "metadata": {},
   "outputs": [],
   "source": [
    "#send BTC transaction\n",
    "send_trx(BTCTEST,btc_acc,'miEz4gE7RfSDXgzrSwij62a2GFyrPmJsFV',0.1)"
   ]
  },
  {
   "cell_type": "code",
   "execution_count": 40,
   "id": "3c93afd5",
   "metadata": {},
   "outputs": [],
   "source": [
    "#connecting to HTTP with address pk\n",
    "w3 = Web3(Web3.HTTPProvider(\"http://127.0.0.1:8545/0x9d560f1207789c19a9fbb1c4cf6c8f5828d5b2219034cc7362a3705ab20f2305\"))"
   ]
  },
  {
   "cell_type": "code",
   "execution_count": 41,
   "id": "e44b6a48",
   "metadata": {},
   "outputs": [
    {
     "data": {
      "text/plain": [
       "False"
      ]
     },
     "execution_count": 41,
     "metadata": {},
     "output_type": "execute_result"
    }
   ],
   "source": [
    "# double check if  I am connected to blockchain. \n",
    "w3.isConnected()"
   ]
  },
  {
   "cell_type": "code",
   "execution_count": 42,
   "id": "d86a854d",
   "metadata": {
    "scrolled": false
   },
   "outputs": [],
   "source": [
    "#checking the Block Number\n",
    "w3.eth.blockNumber"
   ]
  },
  {
   "cell_type": "code",
   "execution_count": null,
   "id": "b08c37ba",
   "metadata": {},
   "outputs": [],
   "source": [
    "w3.eth.getBalance(\"0x503B3648E16a2103Edd7f9A768601c865714B492\")"
   ]
  },
  {
   "cell_type": "code",
   "execution_count": null,
   "id": "5e941455",
   "metadata": {},
   "outputs": [],
   "source": [
    "create_trx(ETH,eth_acc,\"0x503B3648E16a2103Edd7f9A768601c865714B492\", 1000)"
   ]
  },
  {
   "cell_type": "code",
   "execution_count": null,
   "id": "bfa2195e",
   "metadata": {},
   "outputs": [],
   "source": [
    "send_trx(ETH, eth_acc,\"0xbFDf092Ea03FC2ff3f9D0a8aFf0F567638209C0F\", 1000)"
   ]
  },
  {
   "cell_type": "code",
   "execution_count": null,
   "id": "3c9d2960",
   "metadata": {},
   "outputs": [],
   "source": [
    "w3.eth.getBalance(\"0xbFDf092Ea03FC2ff3f9D0a8aFf0F567638209C0F\")"
   ]
  },
  {
   "cell_type": "code",
   "execution_count": null,
   "id": "c399a3a3",
   "metadata": {},
   "outputs": [],
   "source": []
  }
 ],
 "metadata": {
  "kernelspec": {
   "display_name": "Python 3",
   "language": "python",
   "name": "python3"
  },
  "language_info": {
   "codemirror_mode": {
    "name": "ipython",
    "version": 3
   },
   "file_extension": ".py",
   "mimetype": "text/x-python",
   "name": "python",
   "nbconvert_exporter": "python",
   "pygments_lexer": "ipython3",
   "version": "3.7.11"
  }
 },
 "nbformat": 4,
 "nbformat_minor": 5
}
